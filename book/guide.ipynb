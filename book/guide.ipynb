{
 "cells": [
  {
   "cell_type": "code",
   "execution_count": 7,
   "metadata": {},
   "outputs": [],
   "source": [
    "import os\n",
    "import numpy as np\n",
    "import pandas as pd\n",
    "\n",
    "# load data '../../chars.csv'\n",
    "chars = pd.read_csv('../characters_freq.csv', sep=',', encoding='utf-8')\n",
    "words = pd.read_csv('../vocabulary_freq.csv', sep=',', encoding='utf-8')"
   ]
  },
  {
   "cell_type": "code",
   "execution_count": 8,
   "metadata": {},
   "outputs": [],
   "source": [
    "# new dataframe\n",
    "df = pd.DataFrame(columns=['page', 'chars', 'words', 'level', 'pinyin'])\n",
    "\n",
    "page = 0\n",
    "for index, row in chars.iterrows():\n",
    "\n",
    "    page += 1\n",
    "\n",
    "    df.loc[index, 'page'] = page\n",
    "    df.loc[index, 'chars'] = row['character']\n",
    "    df.loc[index, 'level'] = row['level']\n",
    "    df.loc[index, 'pinyin'] = row['pinyin']"
   ]
  },
  {
   "cell_type": "code",
   "execution_count": 9,
   "metadata": {},
   "outputs": [],
   "source": [
    "df['old_chars'] = ''\n",
    "for page, row in df.iterrows():\n",
    "    cum_chars = df.loc[:page, 'chars'].str.cat(sep=', ')\n",
    "    df.at[page, 'old_chars'] = cum_chars"
   ]
  },
  {
   "cell_type": "code",
   "execution_count": 10,
   "metadata": {},
   "outputs": [],
   "source": [
    "def find_words(df, words, num_chars_interval=(2, 10), max_page=-1):\n",
    "    for page, row in df.iterrows():\n",
    "        chars = row['old_chars']\n",
    "        contains = words['word'].apply(lambda x: all(\n",
    "            char in chars for char in x) and num_chars_interval[0] <= len(x) <= num_chars_interval[1])\n",
    "\n",
    "        df.at[page, 'words'] = words[contains]['word'].values.tolist()\n",
    "        # remove duplicates\n",
    "        df.at[page, 'words'] = list(set(df.at[page, 'words']))\n",
    "\n",
    "        # print(\n",
    "        #     f\"Page {row['page']}:\\n\\tChars: {chars}\\n\\tWords: {len(df.at[page, 'words'])}\\n\")\n",
    "\n",
    "        # stop at max_page\n",
    "        if row['page'] == max_page:\n",
    "            break\n",
    "\n",
    "find_words(df, words, num_chars_interval=(2, 10))"
   ]
  },
  {
   "cell_type": "code",
   "execution_count": null,
   "metadata": {},
   "outputs": [],
   "source": [
    "# Define the order\n",
    "level_order = ['一级', '二级', '三级', '四级', '五级', '六级', '高等']\n",
    "\n",
    "# Sort the dataframe\n",
    "df['level'] = pd.Categorical(df['level'], level_order)\n",
    "df.sort_values(['level', 'page'], inplace=True)\n",
    "\n",
    "# Save to csv\n",
    "# df.to_csv('guide.csv', sep=',', encoding='utf-8', index=False)"
   ]
  },
  {
   "cell_type": "code",
   "execution_count": null,
   "metadata": {},
   "outputs": [],
   "source": [
    "# save every level (as numbers) to csv\n",
    "for i, level in enumerate(level_order, 1):\n",
    "    df[df['level'] == level].to_csv(\n",
    "        f'guide_{i}.csv', sep=',', encoding='utf-8', index=False)"
   ]
  }
 ],
 "metadata": {
  "kernelspec": {
   "display_name": "Python 3",
   "language": "python",
   "name": "python3"
  },
  "language_info": {
   "codemirror_mode": {
    "name": "ipython",
    "version": 3
   },
   "file_extension": ".py",
   "mimetype": "text/x-python",
   "name": "python",
   "nbconvert_exporter": "python",
   "pygments_lexer": "ipython3",
   "version": "3.10.8"
  }
 },
 "nbformat": 4,
 "nbformat_minor": 2
}
